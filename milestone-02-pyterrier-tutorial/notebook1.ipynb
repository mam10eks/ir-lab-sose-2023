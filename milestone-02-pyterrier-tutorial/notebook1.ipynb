{
 "cells": [
  {
   "cell_type": "markdown",
   "metadata": {
    "id": "6UxEkLc6yz6J"
   },
   "source": [
    "# PyTerrier ECIR Tutorial Notebook - Part 1 (Adopted for IR LAB in Leipzig SoSe 2023)\n",
    "\n",
    "This is one of a series of Colab notebooks created for the [ECIR 2021](https://www.ecir2021.eu) Tutorial entitled '**IR From Bag-of-words to BERT and Beyond through Practical Experiment**'. It demonstrates the use of [PyTerrier](https://github.com/terrier-org/pyterrier). We adopted it so that it runs directly in on the corpus and setup of the IR Lab.\n",
    "\n",
    "This notebooks has the following learning outcomes:\n",
    "  - indexing a collection that was imported to TIRA via ir_datasets\n",
    "  - accessing an index\n",
    "  - using the `BatchRetrieve` transformer for searching an index\n",
    "  - conducting an `Experiment` \n",
    "\n",
    "\n",
    "Related Reading:\n",
    " - [Pandas documentation](https://pandas.pydata.org/docs/)\n",
    " - [PyTerrier documentation](https://pyterrier.readthedocs.io/en/latest/)\n"
   ]
  },
  {
   "cell_type": "markdown",
   "metadata": {
    "id": "7u2hD-zBzfpR"
   },
   "source": [
    "PyTerrier is a Python framework, but uses the underlying [Terrier information retrieval toolkit](http://terrier.org) for many indexing and retrieval operations. While PyTerrier was new in 2020, Terrier is written in Java and has a long history dating back to 2001. PyTerrier makes it easy to perform IR experiments in Python, but using the mature Terrier platform for the expensive indexing and retrieval operations. \n",
    "\n",
    "In the following, we introduce everything you need to know about PyTerrier, and also provide appropriate links to relevant parts of the [PyTerrier documentation](https://pyterrier.readthedocs.io/en/latest/).\n"
   ]
  },
  {
   "cell_type": "markdown",
   "metadata": {
    "id": "iH0Ds2370V0G"
   },
   "source": [
    "### Installation & Configuration\n",
    "\n",
    "Please start the Jupyter notebook on your system via:\n",
    "\n",
    "```\n",
    "docker run -p 8888:8888 --rm -ti -v ${PWD}:/workspace --entrypoint jupyter webis/tira-ir-starter-pyterrier:0.0.2-base  notebook --allow-root --ip 0.0.0.0\n",
    "```"
   ]
  },
  {
   "cell_type": "markdown",
   "metadata": {
    "id": "JUN1B8RI0gPC"
   },
   "source": [
    "The next step is to initialise PyTerrier. This is performed using PyTerrier's `init()` method. The `init()` method is needed as PyTerrier must download Terrier's jar file and start the Java virtual machine. We prevent `init()` from being called more than once by checking `started()`."
   ]
  },
  {
   "cell_type": "code",
   "execution_count": 1,
   "metadata": {},
   "outputs": [
    {
     "name": "stdout",
     "output_type": "stream",
     "text": [
      "Start PyTerrier with version=5.7, helper_version=0.0.7, no_download=True\n"
     ]
    },
    {
     "name": "stderr",
     "output_type": "stream",
     "text": [
      "PyTerrier 0.9.2 has loaded Terrier 5.7 (built by craigm on 2022-11-10 18:30) and terrier-helper 0.0.7\n",
      "\n",
      "No etc/terrier.properties, using terrier.default.properties for bootstrap configuration.\n"
     ]
    },
    {
     "name": "stdout",
     "output_type": "stream",
     "text": [
      "I will use a small hardcoded example located in ./iranthology-dataset-tira.\n",
      "The output directory is /tmp/\n"
     ]
    }
   ],
   "source": [
    "import pyterrier as pt\n",
    "\n",
    "# We use use PyTerrier inside TIRA.\n",
    "# To simplify some of the common pitfalls, we use two methods from the tira third_party_integrations:\n",
    "# - ensure_pyterrier_is_loaded:\n",
    "#    loads PyTerrier without internet connection\n",
    "#    (in TIRA, retrieval approaches have no access to the internet to improve reproducibility)\n",
    "#\n",
    "# - get_input_directory_and_output_directory:\n",
    "#   A software in TIRA is expected to read the data from an input directory and write the results (i.e., the run file) to an output directory.\n",
    "#   Both input and output directories are passed as arguments when the software is executed within TIRA,\n",
    "#   so this method ensures that you can run the same notebook locally for development as in TIRA by\n",
    "#   returning the passed input directory (that might be mounted) if the software is not executed in TIRA.\n",
    "#   Here, we will not use the output directory.\n",
    "#\n",
    "# You do not have to use any of those methods, in the end it is only \"generate an output from an input\".\n",
    "# We are of course also happy for pull requests that help to improve the handling of frequently used patterns.\n",
    "# Please find the documentation here: https://github.com/tira-io/tira/blob/main/python-client/tira/third_party_integrations.py\n",
    "#\n",
    "from tira.third_party_integrations import ensure_pyterrier_is_loaded, get_input_directory_and_output_directory\n",
    "\n",
    "ensure_pyterrier_is_loaded()\n",
    "input_directory, output_directory = get_input_directory_and_output_directory('./iranthology-dataset-tira')\n"
   ]
  },
  {
   "cell_type": "markdown",
   "metadata": {
    "id": "-qqjVSu-5_FX"
   },
   "source": [
    "### Documents, Indexing and Indexes"
   ]
  },
  {
   "cell_type": "markdown",
   "metadata": {},
   "source": [
    "First, we extract the corpus (we added the zipped corpus to the repository)"
   ]
  },
  {
   "cell_type": "code",
   "execution_count": 3,
   "metadata": {},
   "outputs": [
    {
     "name": "stdout",
     "output_type": "stream",
     "text": [
      "Reading package lists... Done\n",
      "Building dependency tree       \n",
      "Reading state information... Done\n",
      "zip is already the newest version (3.0-11build1).\n",
      "0 upgraded, 0 newly installed, 0 to remove and 19 not upgraded.\n",
      "Archive:  dataset.zip\n",
      "   creating: iranthology-dataset-tira/\n",
      "  inflating: iranthology-dataset-tira/documents.jsonl  \n",
      "  inflating: iranthology-dataset-tira/queries.jsonl  \n",
      "  inflating: iranthology-dataset-tira/metadata.json  \n",
      "  inflating: iranthology-dataset-tira/queries.xml  \n",
      "  inflating: iranthology-dataset-tira/qrels.txt  \n"
     ]
    }
   ],
   "source": [
    "!apt-get install -y zip\n",
    "!rm -Rf {input_directory}\n",
    "!unzip dataset.zip"
   ]
  },
  {
   "cell_type": "markdown",
   "metadata": {},
   "source": [
    "Unzipping the command has exported the dataset to the correct location pointed to by the `input_directory` variable:"
   ]
  },
  {
   "cell_type": "code",
   "execution_count": 4,
   "metadata": {},
   "outputs": [
    {
     "name": "stdout",
     "output_type": "stream",
     "text": [
      "total 77M\r\n",
      "drwxr-xr-x 2 root root 4.0K May  3 04:46 .\r\n",
      "drwxr-xr-x 6 1000 1000 4.0K May  3 04:47 ..\r\n",
      "-rw-r--r-- 1 root root  77M May  2 15:33 documents.jsonl\r\n",
      "-rw-r--r-- 1 root root   41 May  2 15:33 metadata.json\r\n",
      "-rw-r--r-- 1 root root  433 May  3 04:46 qrels.txt\r\n",
      "-rw-r--r-- 1 root root 1.6K May  2 15:33 queries.jsonl\r\n",
      "-rw-r--r-- 1 root root 2.1K May  2 15:33 queries.xml\r\n"
     ]
    }
   ],
   "source": [
    "!ls -lha {input_directory}"
   ]
  },
  {
   "cell_type": "markdown",
   "metadata": {
    "id": "3soS1IIy5B83"
   },
   "source": [
    "Much of PyTerrier's view of the world is wrapped up in Pandas dataframes. Let's consider some textual documents in a dataframe.\n"
   ]
  },
  {
   "cell_type": "code",
   "execution_count": 5,
   "metadata": {
    "colab": {
     "base_uri": "https://localhost:8080/",
     "height": 142
    },
    "executionInfo": {
     "elapsed": 14933,
     "status": "ok",
     "timestamp": 1615971633692,
     "user": {
      "displayName": "Nicola Tonellotto",
      "photoUrl": "https://lh3.googleusercontent.com/a-/AOh14Gga8BaxLsPFWvzzBzSximki7T2Jsnf0EEARTd_h=s64",
      "userId": "17533833776178224794"
     },
     "user_tz": -60
    },
    "id": "gSEiEuTE5uyL",
    "outputId": "8ef282f5-94df-403f-c501-6147f62d2de8"
   },
   "outputs": [
    {
     "data": {
      "text/html": [
       "<div>\n",
       "<style scoped>\n",
       "    .dataframe tbody tr th:only-of-type {\n",
       "        vertical-align: middle;\n",
       "    }\n",
       "\n",
       "    .dataframe tbody tr th {\n",
       "        vertical-align: top;\n",
       "    }\n",
       "\n",
       "    .dataframe thead th {\n",
       "        text-align: right;\n",
       "    }\n",
       "</style>\n",
       "<table border=\"1\" class=\"dataframe\">\n",
       "  <thead>\n",
       "    <tr style=\"text-align: right;\">\n",
       "      <th></th>\n",
       "      <th>docno</th>\n",
       "      <th>text</th>\n",
       "      <th>original_document</th>\n",
       "    </tr>\n",
       "  </thead>\n",
       "  <tbody>\n",
       "    <tr>\n",
       "      <th>0</th>\n",
       "      <td>2019.sigirconf_workshop-2019birndl.0</td>\n",
       "      <td>Proceedings of the 4th Joint Workshop on Bibliometric-enhanced Information Retrieval and Natural Language Processing for Digital Libraries (BIRNDL...</td>\n",
       "      <td>{'doc_id': '2019.sigirconf_workshop-2019birndl.0', 'abstract': '', 'title': 'Proceedings of the 4th Joint Workshop on Bibliometric-enhanced Inform...</td>\n",
       "    </tr>\n",
       "    <tr>\n",
       "      <th>1</th>\n",
       "      <td>2019.sigirconf_workshop-2019birndl.1</td>\n",
       "      <td>Preface: 4th Joint Workshop on BIRNDL at SIGIR 2019</td>\n",
       "      <td>{'doc_id': '2019.sigirconf_workshop-2019birndl.1', 'abstract': '', 'title': 'Preface: 4th Joint Workshop on BIRNDL at SIGIR 2019', 'authors': [], ...</td>\n",
       "    </tr>\n",
       "    <tr>\n",
       "      <th>2</th>\n",
       "      <td>2019.sigirconf_workshop-2019birndl.2</td>\n",
       "      <td>Personalized Feed/Query-formulation, Predictive Impact, and Ranking The Meta discovery system is designed to aid biomedical researchers in keeping...</td>\n",
       "      <td>{'doc_id': '2019.sigirconf_workshop-2019birndl.2', 'abstract': 'The Meta discovery system is designed to aid biomedical researchers in keeping up ...</td>\n",
       "    </tr>\n",
       "    <tr>\n",
       "      <th>3</th>\n",
       "      <td>2019.sigirconf_workshop-2019birndl.3</td>\n",
       "      <td>Discourse Processing for Text Analysis: Recent Successes, Current Challenges Computational discourse processing has come a long way in the 10 year...</td>\n",
       "      <td>{'doc_id': '2019.sigirconf_workshop-2019birndl.3', 'abstract': 'Computational discourse processing has come a long way in the 10 years since I spo...</td>\n",
       "    </tr>\n",
       "    <tr>\n",
       "      <th>4</th>\n",
       "      <td>2019.sigirconf_workshop-2019birndl.4</td>\n",
       "      <td>Distant Supervision for Silver Label Generation of Software Mentions in Social Scientific Publications Many scientific investigations rely on soft...</td>\n",
       "      <td>{'doc_id': '2019.sigirconf_workshop-2019birndl.4', 'abstract': 'Many scientific investigations rely on software for a range of different tasks inc...</td>\n",
       "    </tr>\n",
       "  </tbody>\n",
       "</table>\n",
       "</div>"
      ],
      "text/plain": [
       "                                  docno  \\\n",
       "0  2019.sigirconf_workshop-2019birndl.0   \n",
       "1  2019.sigirconf_workshop-2019birndl.1   \n",
       "2  2019.sigirconf_workshop-2019birndl.2   \n",
       "3  2019.sigirconf_workshop-2019birndl.3   \n",
       "4  2019.sigirconf_workshop-2019birndl.4   \n",
       "\n",
       "                                                                                                                                                    text  \\\n",
       "0  Proceedings of the 4th Joint Workshop on Bibliometric-enhanced Information Retrieval and Natural Language Processing for Digital Libraries (BIRNDL...   \n",
       "1                                                                                                   Preface: 4th Joint Workshop on BIRNDL at SIGIR 2019    \n",
       "2  Personalized Feed/Query-formulation, Predictive Impact, and Ranking The Meta discovery system is designed to aid biomedical researchers in keeping...   \n",
       "3  Discourse Processing for Text Analysis: Recent Successes, Current Challenges Computational discourse processing has come a long way in the 10 year...   \n",
       "4  Distant Supervision for Silver Label Generation of Software Mentions in Social Scientific Publications Many scientific investigations rely on soft...   \n",
       "\n",
       "                                                                                                                                       original_document  \n",
       "0  {'doc_id': '2019.sigirconf_workshop-2019birndl.0', 'abstract': '', 'title': 'Proceedings of the 4th Joint Workshop on Bibliometric-enhanced Inform...  \n",
       "1  {'doc_id': '2019.sigirconf_workshop-2019birndl.1', 'abstract': '', 'title': 'Preface: 4th Joint Workshop on BIRNDL at SIGIR 2019', 'authors': [], ...  \n",
       "2  {'doc_id': '2019.sigirconf_workshop-2019birndl.2', 'abstract': 'The Meta discovery system is designed to aid biomedical researchers in keeping up ...  \n",
       "3  {'doc_id': '2019.sigirconf_workshop-2019birndl.3', 'abstract': 'Computational discourse processing has come a long way in the 10 years since I spo...  \n",
       "4  {'doc_id': '2019.sigirconf_workshop-2019birndl.4', 'abstract': 'Many scientific investigations rely on software for a range of different tasks inc...  "
      ]
     },
     "execution_count": 5,
     "metadata": {},
     "output_type": "execute_result"
    }
   ],
   "source": [
    "# we need to import pandas. We commonly rename it to pd, to make commands shorter\n",
    "import pandas as pd\n",
    "\n",
    "# lets not truncate output too much\n",
    "pd.set_option('display.max_colwidth', 150)\n",
    "\n",
    "docs_df = pd.read_json(f'{input_directory}/documents.jsonl', lines=True)\n",
    "\n",
    "docs_df.head(5)"
   ]
  },
  {
   "cell_type": "markdown",
   "metadata": {
    "id": "2RCtCCTU6GAj"
   },
   "source": [
    "Before any search engine can estimate which documents are most likely to be relevant for a given query, it must index the documents. \n",
    "\n",
    "In the following cell, we index the dataframe's documents. The index, with all its data structures, is written into a directory called `index_ir_docs`. "
   ]
  },
  {
   "cell_type": "code",
   "execution_count": 6,
   "metadata": {
    "colab": {
     "base_uri": "https://localhost:8080/",
     "height": 37
    },
    "executionInfo": {
     "elapsed": 2312,
     "status": "ok",
     "timestamp": 1615971681350,
     "user": {
      "displayName": "Nicola Tonellotto",
      "photoUrl": "https://lh3.googleusercontent.com/a-/AOh14Gga8BaxLsPFWvzzBzSximki7T2Jsnf0EEARTd_h=s64",
      "userId": "17533833776178224794"
     },
     "user_tz": -60
    },
    "id": "1YvLhEOS6V8w",
    "outputId": "ebe4070d-7160-42ba-bbfe-e5ccc2f3165b"
   },
   "outputs": [
    {
     "name": "stderr",
     "output_type": "stream",
     "text": [
      " 31%|████████████████████████████▉                                                                 | 16543/53673 [00:18<00:34, 1085.32documents/s]"
     ]
    },
    {
     "name": "stdout",
     "output_type": "stream",
     "text": [
      "04:48:30.938 [main] WARN org.terrier.structures.indexing.Indexer - Adding an empty document to the index (2020.mir_conference-2020.1) - further warnings are suppressed\n"
     ]
    },
    {
     "name": "stderr",
     "output_type": "stream",
     "text": [
      "100%|█████████████████████████████████████████████████████████████████████████████████████████████▊| 53555/53673 [00:46<00:00, 1291.56documents/s]"
     ]
    },
    {
     "name": "stdout",
     "output_type": "stream",
     "text": [
      "04:49:00.154 [main] WARN org.terrier.structures.indexing.Indexer - Indexed 3 empty documents\n"
     ]
    },
    {
     "name": "stderr",
     "output_type": "stream",
     "text": [
      "100%|██████████████████████████████████████████████████████████████████████████████████████████████| 53673/53673 [00:47<00:00, 1120.95documents/s]\n"
     ]
    },
    {
     "data": {
      "text/plain": [
       "'./index_ir_docs/data.properties'"
      ]
     },
     "execution_count": 6,
     "metadata": {},
     "output_type": "execute_result"
    }
   ],
   "source": [
    "indexer = pt.DFIndexer(\"./index_ir_docs\", overwrite=True, meta={'docno' : 100}, verbose=True)\n",
    "index_ref = indexer.index(docs_df[\"text\"], docs_df[\"docno\"])\n",
    "index_ref.toString()"
   ]
  },
  {
   "cell_type": "markdown",
   "metadata": {
    "id": "TUm6r6_625gW"
   },
   "source": [
    "An `IndexRef`\n",
    " is essentially a string saying where an index is stored. Indeed, we can look in the `index_3docs` directory and see that it has created various small files: "
   ]
  },
  {
   "cell_type": "code",
   "execution_count": 7,
   "metadata": {
    "colab": {
     "base_uri": "https://localhost:8080/"
    },
    "executionInfo": {
     "elapsed": 581,
     "status": "ok",
     "timestamp": 1615971697027,
     "user": {
      "displayName": "Nicola Tonellotto",
      "photoUrl": "https://lh3.googleusercontent.com/a-/AOh14Gga8BaxLsPFWvzzBzSximki7T2Jsnf0EEARTd_h=s64",
      "userId": "17533833776178224794"
     },
     "user_tz": -60
    },
    "id": "TF45pl5O8p7R",
    "outputId": "c039d811-aebe-4e4d-f1d4-18b2b989d4c5"
   },
   "outputs": [
    {
     "name": "stdout",
     "output_type": "stream",
     "text": [
      "total 21M\r\n",
      "-rw-r--r-- 1 root root 2.5M May  3 04:48 data.direct.bf\r\n",
      "-rw-r--r-- 1 root root 892K May  3 04:48 data.document.fsarrayfile\r\n",
      "-rw-r--r-- 1 root root 2.2M May  3 04:49 data.inverted.bf\r\n",
      "-rw-r--r-- 1 root root 3.4M May  3 04:49 data.lexicon.fsomapfile\r\n",
      "-rw-r--r-- 1 root root 1017 May  3 04:49 data.lexicon.fsomaphash\r\n",
      "-rw-r--r-- 1 root root 158K May  3 04:49 data.lexicon.fsomapid\r\n",
      "-rw-r--r-- 1 root root 8.8M May  3 04:48 data.meta-0.fsomapfile\r\n",
      "-rw-r--r-- 1 root root 420K May  3 04:48 data.meta.idx\r\n",
      "-rw-r--r-- 1 root root 2.6M May  3 04:48 data.meta.zdata\r\n",
      "-rw-r--r-- 1 root root 4.1K May  3 04:49 data.properties\r\n"
     ]
    }
   ],
   "source": [
    "!ls -lh index_ir_docs/"
   ]
  },
  {
   "cell_type": "markdown",
   "metadata": {
    "id": "B2b8isFP3Kv6"
   },
   "source": [
    "With an `IndexRef`, we can load it to an actual index. The method `pt.IndexFactory.of()` is the relevant factory. "
   ]
  },
  {
   "cell_type": "code",
   "execution_count": 8,
   "metadata": {
    "colab": {
     "base_uri": "https://localhost:8080/"
    },
    "executionInfo": {
     "elapsed": 587,
     "status": "ok",
     "timestamp": 1615971763026,
     "user": {
      "displayName": "Nicola Tonellotto",
      "photoUrl": "https://lh3.googleusercontent.com/a-/AOh14Gga8BaxLsPFWvzzBzSximki7T2Jsnf0EEARTd_h=s64",
      "userId": "17533833776178224794"
     },
     "user_tz": -60
    },
    "id": "TTM17szD6pNy",
    "outputId": "0d00514e-b30f-4b0c-a991-d618d24bb756"
   },
   "outputs": [
    {
     "data": {
      "text/plain": [
       "jnius.reflect.org.terrier.structures.Index"
      ]
     },
     "execution_count": 8,
     "metadata": {},
     "output_type": "execute_result"
    }
   ],
   "source": [
    "index = pt.IndexFactory.of(index_ref)\n",
    "\n",
    "#lets see what type index is.\n",
    "type(index)"
   ]
  },
  {
   "cell_type": "markdown",
   "metadata": {
    "id": "mZe3HD5i7G3v"
   },
   "source": [
    "Ok, so this object refers to Terrier's [`Index`](http://terrier.org/docs/current/javadoc/org/terrier/structures/Index.html) type. Check the linked Javadoc – you will see that this Java object has methods such as:\n",
    " - `getCollectionStatistics()`\n",
    " - `getInvertedIndex()`\n",
    " - `getLexicon()`\n",
    "\n",
    "Let's see what is returned by the `CollectionStatistics()` method:"
   ]
  },
  {
   "cell_type": "code",
   "execution_count": 9,
   "metadata": {
    "colab": {
     "base_uri": "https://localhost:8080/"
    },
    "executionInfo": {
     "elapsed": 629,
     "status": "ok",
     "timestamp": 1615972787602,
     "user": {
      "displayName": "Nicola Tonellotto",
      "photoUrl": "https://lh3.googleusercontent.com/a-/AOh14Gga8BaxLsPFWvzzBzSximki7T2Jsnf0EEARTd_h=s64",
      "userId": "17533833776178224794"
     },
     "user_tz": -60
    },
    "id": "6-gXEDSX65bx",
    "outputId": "5491223b-5b50-48c2-8232-d75970e2c2ae"
   },
   "outputs": [
    {
     "name": "stdout",
     "output_type": "stream",
     "text": [
      "Number of documents: 53673\n",
      "Number of terms: 40253\n",
      "Number of postings: 1788410\n",
      "Number of fields: 0\n",
      "Number of tokens: 2703938\n",
      "Field names: []\n",
      "Positions:   false\n",
      "\n"
     ]
    }
   ],
   "source": [
    "print(index.getCollectionStatistics().toString())"
   ]
  },
  {
   "cell_type": "markdown",
   "metadata": {
    "id": "i6HrR4lc7i10"
   },
   "source": [
    "We have 53673 documents and 40253 terms which is our vocabulary."
   ]
  },
  {
   "cell_type": "markdown",
   "metadata": {
    "id": "vaKaU59l-kzg"
   },
   "source": [
    "Let's now think about the inverted index. Remember that the inverted index tells us in which *documents* each term occurs in. The `LexiconEntry` is the pointer that tell us where to find the postings for that term in the inverted index."
   ]
  },
  {
   "cell_type": "markdown",
   "metadata": {
    "id": "zOSdVAr-CGRf"
   },
   "source": [
    "### Searching an Index\n",
    "\n",
    "Our way into search in PyTerrier is called `BatchRetrieve`. BatchRetrieve is configured by specifying an index and a weighting model (`Tf` in our example). We then search for a single-word query, `\"document\"`."
   ]
  },
  {
   "cell_type": "code",
   "execution_count": 10,
   "metadata": {
    "colab": {
     "base_uri": "https://localhost:8080/",
     "height": 142
    },
    "executionInfo": {
     "elapsed": 1097,
     "status": "ok",
     "timestamp": 1615972796605,
     "user": {
      "displayName": "Nicola Tonellotto",
      "photoUrl": "https://lh3.googleusercontent.com/a-/AOh14Gga8BaxLsPFWvzzBzSximki7T2Jsnf0EEARTd_h=s64",
      "userId": "17533833776178224794"
     },
     "user_tz": -60
    },
    "id": "XtK93nwXCF5C",
    "outputId": "f10dccb8-7d91-44ba-8afa-b21b32022999"
   },
   "outputs": [
    {
     "data": {
      "text/html": [
       "<div>\n",
       "<style scoped>\n",
       "    .dataframe tbody tr th:only-of-type {\n",
       "        vertical-align: middle;\n",
       "    }\n",
       "\n",
       "    .dataframe tbody tr th {\n",
       "        vertical-align: top;\n",
       "    }\n",
       "\n",
       "    .dataframe thead th {\n",
       "        text-align: right;\n",
       "    }\n",
       "</style>\n",
       "<table border=\"1\" class=\"dataframe\">\n",
       "  <thead>\n",
       "    <tr style=\"text-align: right;\">\n",
       "      <th></th>\n",
       "      <th>qid</th>\n",
       "      <th>docid</th>\n",
       "      <th>docno</th>\n",
       "      <th>rank</th>\n",
       "      <th>score</th>\n",
       "      <th>query</th>\n",
       "    </tr>\n",
       "  </thead>\n",
       "  <tbody>\n",
       "    <tr>\n",
       "      <th>0</th>\n",
       "      <td>1</td>\n",
       "      <td>403</td>\n",
       "      <td>2001.sigirconf_workshop-2001w1.0</td>\n",
       "      <td>0</td>\n",
       "      <td>59.0</td>\n",
       "      <td>document</td>\n",
       "    </tr>\n",
       "    <tr>\n",
       "      <th>1</th>\n",
       "      <td>1</td>\n",
       "      <td>10167</td>\n",
       "      <td>1997.sigirconf_conference-97.33</td>\n",
       "      <td>1</td>\n",
       "      <td>33.0</td>\n",
       "      <td>document</td>\n",
       "    </tr>\n",
       "    <tr>\n",
       "      <th>2</th>\n",
       "      <td>1</td>\n",
       "      <td>53013</td>\n",
       "      <td>2019.tois_journal-ir0anthology0volumeA37A1.8</td>\n",
       "      <td>2</td>\n",
       "      <td>31.0</td>\n",
       "      <td>document</td>\n",
       "    </tr>\n",
       "    <tr>\n",
       "      <th>3</th>\n",
       "      <td>1</td>\n",
       "      <td>10107</td>\n",
       "      <td>2016.sigirconf_conference-2016.208</td>\n",
       "      <td>3</td>\n",
       "      <td>21.0</td>\n",
       "      <td>document</td>\n",
       "    </tr>\n",
       "    <tr>\n",
       "      <th>4</th>\n",
       "      <td>1</td>\n",
       "      <td>7485</td>\n",
       "      <td>2008.sigirconf_conference-2008.35</td>\n",
       "      <td>4</td>\n",
       "      <td>19.0</td>\n",
       "      <td>document</td>\n",
       "    </tr>\n",
       "    <tr>\n",
       "      <th>...</th>\n",
       "      <td>...</td>\n",
       "      <td>...</td>\n",
       "      <td>...</td>\n",
       "      <td>...</td>\n",
       "      <td>...</td>\n",
       "      <td>...</td>\n",
       "    </tr>\n",
       "    <tr>\n",
       "      <th>995</th>\n",
       "      <td>1</td>\n",
       "      <td>1369</td>\n",
       "      <td>2010.clef_workshop-2010w.58</td>\n",
       "      <td>995</td>\n",
       "      <td>4.0</td>\n",
       "      <td>document</td>\n",
       "    </tr>\n",
       "    <tr>\n",
       "      <th>996</th>\n",
       "      <td>1</td>\n",
       "      <td>1380</td>\n",
       "      <td>2010.clef_workshop-2010w.69</td>\n",
       "      <td>996</td>\n",
       "      <td>4.0</td>\n",
       "      <td>document</td>\n",
       "    </tr>\n",
       "    <tr>\n",
       "      <th>997</th>\n",
       "      <td>1</td>\n",
       "      <td>1725</td>\n",
       "      <td>2008.clef_workshop-2008w.158</td>\n",
       "      <td>997</td>\n",
       "      <td>4.0</td>\n",
       "      <td>document</td>\n",
       "    </tr>\n",
       "    <tr>\n",
       "      <th>998</th>\n",
       "      <td>1</td>\n",
       "      <td>1746</td>\n",
       "      <td>2005.clef_workshop-2005w.16</td>\n",
       "      <td>998</td>\n",
       "      <td>4.0</td>\n",
       "      <td>document</td>\n",
       "    </tr>\n",
       "    <tr>\n",
       "      <th>999</th>\n",
       "      <td>1</td>\n",
       "      <td>1837</td>\n",
       "      <td>2005.clef_workshop-2005w.107</td>\n",
       "      <td>999</td>\n",
       "      <td>4.0</td>\n",
       "      <td>document</td>\n",
       "    </tr>\n",
       "  </tbody>\n",
       "</table>\n",
       "<p>1000 rows × 6 columns</p>\n",
       "</div>"
      ],
      "text/plain": [
       "    qid  docid                                         docno  rank  score  \\\n",
       "0     1    403              2001.sigirconf_workshop-2001w1.0     0   59.0   \n",
       "1     1  10167               1997.sigirconf_conference-97.33     1   33.0   \n",
       "2     1  53013  2019.tois_journal-ir0anthology0volumeA37A1.8     2   31.0   \n",
       "3     1  10107            2016.sigirconf_conference-2016.208     3   21.0   \n",
       "4     1   7485             2008.sigirconf_conference-2008.35     4   19.0   \n",
       "..   ..    ...                                           ...   ...    ...   \n",
       "995   1   1369                   2010.clef_workshop-2010w.58   995    4.0   \n",
       "996   1   1380                   2010.clef_workshop-2010w.69   996    4.0   \n",
       "997   1   1725                  2008.clef_workshop-2008w.158   997    4.0   \n",
       "998   1   1746                   2005.clef_workshop-2005w.16   998    4.0   \n",
       "999   1   1837                  2005.clef_workshop-2005w.107   999    4.0   \n",
       "\n",
       "        query  \n",
       "0    document  \n",
       "1    document  \n",
       "2    document  \n",
       "3    document  \n",
       "4    document  \n",
       "..        ...  \n",
       "995  document  \n",
       "996  document  \n",
       "997  document  \n",
       "998  document  \n",
       "999  document  \n",
       "\n",
       "[1000 rows x 6 columns]"
      ]
     },
     "execution_count": 10,
     "metadata": {},
     "output_type": "execute_result"
    }
   ],
   "source": [
    "br = pt.BatchRetrieve(index, wmodel=\"Tf\")\n",
    "br.search(\"document\")"
   ]
  },
  {
   "cell_type": "markdown",
   "metadata": {
    "id": "BHqSfTCtDM2T"
   },
   "source": [
    "So the `search()` method returns a dataframe with columns:\n",
    " - `qid`: this is by default \"1\", since it's our first and only query\n",
    " - `docid`: Terrier' internal integer for each document\n",
    " - `docno`: the external (string) unique identifier for each document\n",
    " - `score`: since we use the `Tf` weighting model, this score corresponds the total frequency of the query (terms) in each document\n",
    " - `rank`: A handy attribute showing the descending order by score\n",
    " - `query`: the input query\n",
    "\n",
    "As expected, the `Tf` weighting model used here only counts the frequencies of the query terms in each document, i.e.:\n",
    "$$\n",
    "score(d,q) = \\sum_{t \\in q} tf_{t,d}\n",
    "$$\n"
   ]
  },
  {
   "cell_type": "markdown",
   "metadata": {
    "id": "BJBXquPOD6q7"
   },
   "source": [
    "We can also pass a dataframe of one or more queries to the `transform()` method (rather than the `search()` method) of a transformer, with queries numbered \"q1\", \"q2\" etc.. "
   ]
  },
  {
   "cell_type": "code",
   "execution_count": 11,
   "metadata": {
    "colab": {
     "base_uri": "https://localhost:8080/",
     "height": 235
    },
    "executionInfo": {
     "elapsed": 566,
     "status": "ok",
     "timestamp": 1615972799893,
     "user": {
      "displayName": "Nicola Tonellotto",
      "photoUrl": "https://lh3.googleusercontent.com/a-/AOh14Gga8BaxLsPFWvzzBzSximki7T2Jsnf0EEARTd_h=s64",
      "userId": "17533833776178224794"
     },
     "user_tz": -60
    },
    "id": "TPBmPOETBKWk",
    "outputId": "69bf68d3-5e95-403d-f5f8-76bbd7cdaba9"
   },
   "outputs": [
    {
     "data": {
      "text/html": [
       "<div>\n",
       "<style scoped>\n",
       "    .dataframe tbody tr th:only-of-type {\n",
       "        vertical-align: middle;\n",
       "    }\n",
       "\n",
       "    .dataframe tbody tr th {\n",
       "        vertical-align: top;\n",
       "    }\n",
       "\n",
       "    .dataframe thead th {\n",
       "        text-align: right;\n",
       "    }\n",
       "</style>\n",
       "<table border=\"1\" class=\"dataframe\">\n",
       "  <thead>\n",
       "    <tr style=\"text-align: right;\">\n",
       "      <th></th>\n",
       "      <th>qid</th>\n",
       "      <th>docid</th>\n",
       "      <th>docno</th>\n",
       "      <th>rank</th>\n",
       "      <th>score</th>\n",
       "      <th>query</th>\n",
       "    </tr>\n",
       "  </thead>\n",
       "  <tbody>\n",
       "    <tr>\n",
       "      <th>0</th>\n",
       "      <td>q1</td>\n",
       "      <td>403</td>\n",
       "      <td>2001.sigirconf_workshop-2001w1.0</td>\n",
       "      <td>0</td>\n",
       "      <td>59.0</td>\n",
       "      <td>document</td>\n",
       "    </tr>\n",
       "    <tr>\n",
       "      <th>1</th>\n",
       "      <td>q1</td>\n",
       "      <td>10167</td>\n",
       "      <td>1997.sigirconf_conference-97.33</td>\n",
       "      <td>1</td>\n",
       "      <td>33.0</td>\n",
       "      <td>document</td>\n",
       "    </tr>\n",
       "    <tr>\n",
       "      <th>2</th>\n",
       "      <td>q1</td>\n",
       "      <td>53013</td>\n",
       "      <td>2019.tois_journal-ir0anthology0volumeA37A1.8</td>\n",
       "      <td>2</td>\n",
       "      <td>31.0</td>\n",
       "      <td>document</td>\n",
       "    </tr>\n",
       "    <tr>\n",
       "      <th>3</th>\n",
       "      <td>q1</td>\n",
       "      <td>10107</td>\n",
       "      <td>2016.sigirconf_conference-2016.208</td>\n",
       "      <td>3</td>\n",
       "      <td>21.0</td>\n",
       "      <td>document</td>\n",
       "    </tr>\n",
       "    <tr>\n",
       "      <th>4</th>\n",
       "      <td>q1</td>\n",
       "      <td>7485</td>\n",
       "      <td>2008.sigirconf_conference-2008.35</td>\n",
       "      <td>4</td>\n",
       "      <td>19.0</td>\n",
       "      <td>document</td>\n",
       "    </tr>\n",
       "    <tr>\n",
       "      <th>...</th>\n",
       "      <td>...</td>\n",
       "      <td>...</td>\n",
       "      <td>...</td>\n",
       "      <td>...</td>\n",
       "      <td>...</td>\n",
       "      <td>...</td>\n",
       "    </tr>\n",
       "    <tr>\n",
       "      <th>1995</th>\n",
       "      <td>q2</td>\n",
       "      <td>28429</td>\n",
       "      <td>2013.ictir_conference-2013.7</td>\n",
       "      <td>995</td>\n",
       "      <td>5.0</td>\n",
       "      <td>first document</td>\n",
       "    </tr>\n",
       "    <tr>\n",
       "      <th>1996</th>\n",
       "      <td>q2</td>\n",
       "      <td>28444</td>\n",
       "      <td>2013.ictir_conference-2013.22</td>\n",
       "      <td>996</td>\n",
       "      <td>5.0</td>\n",
       "      <td>first document</td>\n",
       "    </tr>\n",
       "    <tr>\n",
       "      <th>1997</th>\n",
       "      <td>q2</td>\n",
       "      <td>28497</td>\n",
       "      <td>2016.ictir_conference-2016.43</td>\n",
       "      <td>997</td>\n",
       "      <td>5.0</td>\n",
       "      <td>first document</td>\n",
       "    </tr>\n",
       "    <tr>\n",
       "      <th>1998</th>\n",
       "      <td>q2</td>\n",
       "      <td>28628</td>\n",
       "      <td>2007.wwwconf_conference-2007.26</td>\n",
       "      <td>998</td>\n",
       "      <td>5.0</td>\n",
       "      <td>first document</td>\n",
       "    </tr>\n",
       "    <tr>\n",
       "      <th>1999</th>\n",
       "      <td>q2</td>\n",
       "      <td>28743</td>\n",
       "      <td>2007.wwwconf_conference-2007.141</td>\n",
       "      <td>999</td>\n",
       "      <td>5.0</td>\n",
       "      <td>first document</td>\n",
       "    </tr>\n",
       "  </tbody>\n",
       "</table>\n",
       "<p>2000 rows × 6 columns</p>\n",
       "</div>"
      ],
      "text/plain": [
       "     qid  docid                                         docno  rank  score  \\\n",
       "0     q1    403              2001.sigirconf_workshop-2001w1.0     0   59.0   \n",
       "1     q1  10167               1997.sigirconf_conference-97.33     1   33.0   \n",
       "2     q1  53013  2019.tois_journal-ir0anthology0volumeA37A1.8     2   31.0   \n",
       "3     q1  10107            2016.sigirconf_conference-2016.208     3   21.0   \n",
       "4     q1   7485             2008.sigirconf_conference-2008.35     4   19.0   \n",
       "...   ..    ...                                           ...   ...    ...   \n",
       "1995  q2  28429                  2013.ictir_conference-2013.7   995    5.0   \n",
       "1996  q2  28444                 2013.ictir_conference-2013.22   996    5.0   \n",
       "1997  q2  28497                 2016.ictir_conference-2016.43   997    5.0   \n",
       "1998  q2  28628               2007.wwwconf_conference-2007.26   998    5.0   \n",
       "1999  q2  28743              2007.wwwconf_conference-2007.141   999    5.0   \n",
       "\n",
       "               query  \n",
       "0           document  \n",
       "1           document  \n",
       "2           document  \n",
       "3           document  \n",
       "4           document  \n",
       "...              ...  \n",
       "1995  first document  \n",
       "1996  first document  \n",
       "1997  first document  \n",
       "1998  first document  \n",
       "1999  first document  \n",
       "\n",
       "[2000 rows x 6 columns]"
      ]
     },
     "execution_count": 11,
     "metadata": {},
     "output_type": "execute_result"
    }
   ],
   "source": [
    "import pandas as pd\n",
    "queries = pd.DataFrame([[\"q1\", \"document\"], [\"q2\", \"first document\"]], columns=[\"qid\", \"query\"])\n",
    "br.transform(queries)"
   ]
  },
  {
   "cell_type": "markdown",
   "metadata": {
    "id": "tcgDzFLBEWAI"
   },
   "source": [
    "In fact, we are usually calling `transform()`, so it's the default method – i.e. \n",
    "`br.transform(queries)` can be more succinctly written as `br(queries)`."
   ]
  },
  {
   "cell_type": "code",
   "execution_count": 12,
   "metadata": {
    "colab": {
     "base_uri": "https://localhost:8080/",
     "height": 235
    },
    "executionInfo": {
     "elapsed": 655,
     "status": "ok",
     "timestamp": 1615972806683,
     "user": {
      "displayName": "Nicola Tonellotto",
      "photoUrl": "https://lh3.googleusercontent.com/a-/AOh14Gga8BaxLsPFWvzzBzSximki7T2Jsnf0EEARTd_h=s64",
      "userId": "17533833776178224794"
     },
     "user_tz": -60
    },
    "id": "YCwxb3HhEOp_",
    "outputId": "b0cfe94b-c1d7-4ac8-811d-befc9771ce32"
   },
   "outputs": [
    {
     "data": {
      "text/html": [
       "<div>\n",
       "<style scoped>\n",
       "    .dataframe tbody tr th:only-of-type {\n",
       "        vertical-align: middle;\n",
       "    }\n",
       "\n",
       "    .dataframe tbody tr th {\n",
       "        vertical-align: top;\n",
       "    }\n",
       "\n",
       "    .dataframe thead th {\n",
       "        text-align: right;\n",
       "    }\n",
       "</style>\n",
       "<table border=\"1\" class=\"dataframe\">\n",
       "  <thead>\n",
       "    <tr style=\"text-align: right;\">\n",
       "      <th></th>\n",
       "      <th>qid</th>\n",
       "      <th>docid</th>\n",
       "      <th>docno</th>\n",
       "      <th>rank</th>\n",
       "      <th>score</th>\n",
       "      <th>query</th>\n",
       "    </tr>\n",
       "  </thead>\n",
       "  <tbody>\n",
       "    <tr>\n",
       "      <th>0</th>\n",
       "      <td>q1</td>\n",
       "      <td>403</td>\n",
       "      <td>2001.sigirconf_workshop-2001w1.0</td>\n",
       "      <td>0</td>\n",
       "      <td>59.0</td>\n",
       "      <td>document</td>\n",
       "    </tr>\n",
       "    <tr>\n",
       "      <th>1</th>\n",
       "      <td>q1</td>\n",
       "      <td>10167</td>\n",
       "      <td>1997.sigirconf_conference-97.33</td>\n",
       "      <td>1</td>\n",
       "      <td>33.0</td>\n",
       "      <td>document</td>\n",
       "    </tr>\n",
       "    <tr>\n",
       "      <th>2</th>\n",
       "      <td>q1</td>\n",
       "      <td>53013</td>\n",
       "      <td>2019.tois_journal-ir0anthology0volumeA37A1.8</td>\n",
       "      <td>2</td>\n",
       "      <td>31.0</td>\n",
       "      <td>document</td>\n",
       "    </tr>\n",
       "    <tr>\n",
       "      <th>3</th>\n",
       "      <td>q1</td>\n",
       "      <td>10107</td>\n",
       "      <td>2016.sigirconf_conference-2016.208</td>\n",
       "      <td>3</td>\n",
       "      <td>21.0</td>\n",
       "      <td>document</td>\n",
       "    </tr>\n",
       "    <tr>\n",
       "      <th>4</th>\n",
       "      <td>q1</td>\n",
       "      <td>7485</td>\n",
       "      <td>2008.sigirconf_conference-2008.35</td>\n",
       "      <td>4</td>\n",
       "      <td>19.0</td>\n",
       "      <td>document</td>\n",
       "    </tr>\n",
       "    <tr>\n",
       "      <th>...</th>\n",
       "      <td>...</td>\n",
       "      <td>...</td>\n",
       "      <td>...</td>\n",
       "      <td>...</td>\n",
       "      <td>...</td>\n",
       "      <td>...</td>\n",
       "    </tr>\n",
       "    <tr>\n",
       "      <th>1995</th>\n",
       "      <td>q2</td>\n",
       "      <td>28429</td>\n",
       "      <td>2013.ictir_conference-2013.7</td>\n",
       "      <td>995</td>\n",
       "      <td>5.0</td>\n",
       "      <td>first document</td>\n",
       "    </tr>\n",
       "    <tr>\n",
       "      <th>1996</th>\n",
       "      <td>q2</td>\n",
       "      <td>28444</td>\n",
       "      <td>2013.ictir_conference-2013.22</td>\n",
       "      <td>996</td>\n",
       "      <td>5.0</td>\n",
       "      <td>first document</td>\n",
       "    </tr>\n",
       "    <tr>\n",
       "      <th>1997</th>\n",
       "      <td>q2</td>\n",
       "      <td>28497</td>\n",
       "      <td>2016.ictir_conference-2016.43</td>\n",
       "      <td>997</td>\n",
       "      <td>5.0</td>\n",
       "      <td>first document</td>\n",
       "    </tr>\n",
       "    <tr>\n",
       "      <th>1998</th>\n",
       "      <td>q2</td>\n",
       "      <td>28628</td>\n",
       "      <td>2007.wwwconf_conference-2007.26</td>\n",
       "      <td>998</td>\n",
       "      <td>5.0</td>\n",
       "      <td>first document</td>\n",
       "    </tr>\n",
       "    <tr>\n",
       "      <th>1999</th>\n",
       "      <td>q2</td>\n",
       "      <td>28743</td>\n",
       "      <td>2007.wwwconf_conference-2007.141</td>\n",
       "      <td>999</td>\n",
       "      <td>5.0</td>\n",
       "      <td>first document</td>\n",
       "    </tr>\n",
       "  </tbody>\n",
       "</table>\n",
       "<p>2000 rows × 6 columns</p>\n",
       "</div>"
      ],
      "text/plain": [
       "     qid  docid                                         docno  rank  score  \\\n",
       "0     q1    403              2001.sigirconf_workshop-2001w1.0     0   59.0   \n",
       "1     q1  10167               1997.sigirconf_conference-97.33     1   33.0   \n",
       "2     q1  53013  2019.tois_journal-ir0anthology0volumeA37A1.8     2   31.0   \n",
       "3     q1  10107            2016.sigirconf_conference-2016.208     3   21.0   \n",
       "4     q1   7485             2008.sigirconf_conference-2008.35     4   19.0   \n",
       "...   ..    ...                                           ...   ...    ...   \n",
       "1995  q2  28429                  2013.ictir_conference-2013.7   995    5.0   \n",
       "1996  q2  28444                 2013.ictir_conference-2013.22   996    5.0   \n",
       "1997  q2  28497                 2016.ictir_conference-2016.43   997    5.0   \n",
       "1998  q2  28628               2007.wwwconf_conference-2007.26   998    5.0   \n",
       "1999  q2  28743              2007.wwwconf_conference-2007.141   999    5.0   \n",
       "\n",
       "               query  \n",
       "0           document  \n",
       "1           document  \n",
       "2           document  \n",
       "3           document  \n",
       "4           document  \n",
       "...              ...  \n",
       "1995  first document  \n",
       "1996  first document  \n",
       "1997  first document  \n",
       "1998  first document  \n",
       "1999  first document  \n",
       "\n",
       "[2000 rows x 6 columns]"
      ]
     },
     "execution_count": 12,
     "metadata": {},
     "output_type": "execute_result"
    }
   ],
   "source": [
    "br(queries)"
   ]
  },
  {
   "cell_type": "markdown",
   "metadata": {
    "id": "tQD9Q8CqSirN"
   },
   "source": [
    "To continue this tutorial, we now use the topics/queries from the sample solution.\n",
    "We do not have reliable relevance judgments for those topics/queries yet, but we annotated for each query one relevant document (very unreliable for later experiments, we need to make more judgments as part of milestone 2, we just looked at a BM25 ranking and looked for the first relevant document).\n",
    "\n"
   ]
  },
  {
   "cell_type": "code",
   "execution_count": 13,
   "metadata": {},
   "outputs": [],
   "source": [
    "queries = pt.io.read_topics(f'{input_directory}/queries.xml', format='trecxml')\n",
    "qrels = pt.io.read_qrels(f'{input_directory}/qrels.txt')"
   ]
  },
  {
   "cell_type": "code",
   "execution_count": 15,
   "metadata": {
    "colab": {
     "base_uri": "https://localhost:8080/",
     "height": 275
    },
    "executionInfo": {
     "elapsed": 961,
     "status": "ok",
     "timestamp": 1615972942774,
     "user": {
      "displayName": "Nicola Tonellotto",
      "photoUrl": "https://lh3.googleusercontent.com/a-/AOh14Gga8BaxLsPFWvzzBzSximki7T2Jsnf0EEARTd_h=s64",
      "userId": "17533833776178224794"
     },
     "user_tz": -60
    },
    "id": "8n7oY-YYS_-A",
    "outputId": "6ff6f437-725f-4b92-bfab-787e18386941"
   },
   "outputs": [
    {
     "data": {
      "text/html": [
       "<div>\n",
       "<style scoped>\n",
       "    .dataframe tbody tr th:only-of-type {\n",
       "        vertical-align: middle;\n",
       "    }\n",
       "\n",
       "    .dataframe tbody tr th {\n",
       "        vertical-align: top;\n",
       "    }\n",
       "\n",
       "    .dataframe thead th {\n",
       "        text-align: right;\n",
       "    }\n",
       "</style>\n",
       "<table border=\"1\" class=\"dataframe\">\n",
       "  <thead>\n",
       "    <tr style=\"text-align: right;\">\n",
       "      <th></th>\n",
       "      <th>qid</th>\n",
       "      <th>query</th>\n",
       "    </tr>\n",
       "  </thead>\n",
       "  <tbody>\n",
       "    <tr>\n",
       "      <th>0</th>\n",
       "      <td>1</td>\n",
       "      <td>detect health related queries</td>\n",
       "    </tr>\n",
       "    <tr>\n",
       "      <th>1</th>\n",
       "      <td>2</td>\n",
       "      <td>large language models for query expansion</td>\n",
       "    </tr>\n",
       "    <tr>\n",
       "      <th>2</th>\n",
       "      <td>3</td>\n",
       "      <td>datasets for web search</td>\n",
       "    </tr>\n",
       "    <tr>\n",
       "      <th>3</th>\n",
       "      <td>4</td>\n",
       "      <td>known item search for movies</td>\n",
       "    </tr>\n",
       "  </tbody>\n",
       "</table>\n",
       "</div>"
      ],
      "text/plain": [
       "  qid                                       query\n",
       "0   1               detect health related queries\n",
       "1   2   large language models for query expansion\n",
       "2   3                     datasets for web search\n",
       "3   4                known item search for movies"
      ]
     },
     "execution_count": 15,
     "metadata": {},
     "output_type": "execute_result"
    }
   ],
   "source": [
    "queries"
   ]
  },
  {
   "cell_type": "code",
   "execution_count": 16,
   "metadata": {
    "colab": {
     "base_uri": "https://localhost:8080/",
     "height": 275
    },
    "executionInfo": {
     "elapsed": 1704,
     "status": "ok",
     "timestamp": 1615972945620,
     "user": {
      "displayName": "Nicola Tonellotto",
      "photoUrl": "https://lh3.googleusercontent.com/a-/AOh14Gga8BaxLsPFWvzzBzSximki7T2Jsnf0EEARTd_h=s64",
      "userId": "17533833776178224794"
     },
     "user_tz": -60
    },
    "id": "-rYxqvhJTGNX",
    "outputId": "e4db9772-f10f-4133-bc25-aee1a6f5a0ba"
   },
   "outputs": [
    {
     "data": {
      "text/html": [
       "<div>\n",
       "<style scoped>\n",
       "    .dataframe tbody tr th:only-of-type {\n",
       "        vertical-align: middle;\n",
       "    }\n",
       "\n",
       "    .dataframe tbody tr th {\n",
       "        vertical-align: top;\n",
       "    }\n",
       "\n",
       "    .dataframe thead th {\n",
       "        text-align: right;\n",
       "    }\n",
       "</style>\n",
       "<table border=\"1\" class=\"dataframe\">\n",
       "  <thead>\n",
       "    <tr style=\"text-align: right;\">\n",
       "      <th></th>\n",
       "      <th>qid</th>\n",
       "      <th>docno</th>\n",
       "      <th>label</th>\n",
       "    </tr>\n",
       "  </thead>\n",
       "  <tbody>\n",
       "    <tr>\n",
       "      <th>0</th>\n",
       "      <td>1</td>\n",
       "      <td>2016.fire_conference-2016w.51</td>\n",
       "      <td>0</td>\n",
       "    </tr>\n",
       "    <tr>\n",
       "      <th>1</th>\n",
       "      <td>1</td>\n",
       "      <td>2021.ipm_journal-ir0anthology0volumeA58A1.6</td>\n",
       "      <td>0</td>\n",
       "    </tr>\n",
       "    <tr>\n",
       "      <th>2</th>\n",
       "      <td>1</td>\n",
       "      <td>2011.spire_conference-2011.10</td>\n",
       "      <td>1</td>\n",
       "    </tr>\n",
       "    <tr>\n",
       "      <th>3</th>\n",
       "      <td>1</td>\n",
       "      <td>2019.cikm_conference-2019.346</td>\n",
       "      <td>0</td>\n",
       "    </tr>\n",
       "    <tr>\n",
       "      <th>4</th>\n",
       "      <td>1</td>\n",
       "      <td>2021.tist_journal-ir0anthology0volumeA12A2.4</td>\n",
       "      <td>0</td>\n",
       "    </tr>\n",
       "    <tr>\n",
       "      <th>5</th>\n",
       "      <td>1</td>\n",
       "      <td>2013.wwwconf_conference-2013c.302</td>\n",
       "      <td>0</td>\n",
       "    </tr>\n",
       "    <tr>\n",
       "      <th>6</th>\n",
       "      <td>2</td>\n",
       "      <td>2008.cikm_conference-2008.157</td>\n",
       "      <td>0</td>\n",
       "    </tr>\n",
       "    <tr>\n",
       "      <th>7</th>\n",
       "      <td>2</td>\n",
       "      <td>2018.ictir_conference-2018.30</td>\n",
       "      <td>1</td>\n",
       "    </tr>\n",
       "    <tr>\n",
       "      <th>8</th>\n",
       "      <td>2</td>\n",
       "      <td>2007.sigirconf_conference-2007.110</td>\n",
       "      <td>0</td>\n",
       "    </tr>\n",
       "    <tr>\n",
       "      <th>9</th>\n",
       "      <td>3</td>\n",
       "      <td>2013.wsdm_conference-2013.91</td>\n",
       "      <td>1</td>\n",
       "    </tr>\n",
       "    <tr>\n",
       "      <th>10</th>\n",
       "      <td>4</td>\n",
       "      <td>2021.chiir_conference-2021.3</td>\n",
       "      <td>0</td>\n",
       "    </tr>\n",
       "  </tbody>\n",
       "</table>\n",
       "</div>"
      ],
      "text/plain": [
       "   qid                                         docno  label\n",
       "0    1                 2016.fire_conference-2016w.51      0\n",
       "1    1   2021.ipm_journal-ir0anthology0volumeA58A1.6      0\n",
       "2    1                 2011.spire_conference-2011.10      1\n",
       "3    1                 2019.cikm_conference-2019.346      0\n",
       "4    1  2021.tist_journal-ir0anthology0volumeA12A2.4      0\n",
       "5    1             2013.wwwconf_conference-2013c.302      0\n",
       "6    2                 2008.cikm_conference-2008.157      0\n",
       "7    2                 2018.ictir_conference-2018.30      1\n",
       "8    2            2007.sigirconf_conference-2007.110      0\n",
       "9    3                  2013.wsdm_conference-2013.91      1\n",
       "10   4                  2021.chiir_conference-2021.3      0"
      ]
     },
     "execution_count": 16,
     "metadata": {},
     "output_type": "execute_result"
    }
   ],
   "source": [
    "qrels"
   ]
  },
  {
   "cell_type": "markdown",
   "metadata": {
    "id": "2Gop4-jVbIIu"
   },
   "source": [
    "### Weighting Models\n",
    "\n",
    "So far, we have been using the simple \"`Tf`\" as our ranking function for document retrieval in BatchRetrieve. However, we can use other models such as `\"TF_IDF\"` by simply changing the `wmodel=\"Tf\"` keyword argument in the constructor of `BatchRetrieve`.\n"
   ]
  },
  {
   "cell_type": "code",
   "execution_count": 17,
   "metadata": {
    "colab": {
     "base_uri": "https://localhost:8080/",
     "height": 419
    },
    "executionInfo": {
     "elapsed": 945,
     "status": "ok",
     "timestamp": 1615973062514,
     "user": {
      "displayName": "Nicola Tonellotto",
      "photoUrl": "https://lh3.googleusercontent.com/a-/AOh14Gga8BaxLsPFWvzzBzSximki7T2Jsnf0EEARTd_h=s64",
      "userId": "17533833776178224794"
     },
     "user_tz": -60
    },
    "id": "Cg8AGzCibdPG",
    "outputId": "bc353f41-1c33-468c-a834-37a93f1d0ced"
   },
   "outputs": [
    {
     "data": {
      "text/html": [
       "<div>\n",
       "<style scoped>\n",
       "    .dataframe tbody tr th:only-of-type {\n",
       "        vertical-align: middle;\n",
       "    }\n",
       "\n",
       "    .dataframe tbody tr th {\n",
       "        vertical-align: top;\n",
       "    }\n",
       "\n",
       "    .dataframe thead th {\n",
       "        text-align: right;\n",
       "    }\n",
       "</style>\n",
       "<table border=\"1\" class=\"dataframe\">\n",
       "  <thead>\n",
       "    <tr style=\"text-align: right;\">\n",
       "      <th></th>\n",
       "      <th>qid</th>\n",
       "      <th>docid</th>\n",
       "      <th>docno</th>\n",
       "      <th>rank</th>\n",
       "      <th>score</th>\n",
       "      <th>query</th>\n",
       "    </tr>\n",
       "  </thead>\n",
       "  <tbody>\n",
       "    <tr>\n",
       "      <th>0</th>\n",
       "      <td>1</td>\n",
       "      <td>21104</td>\n",
       "      <td>2008.cikm_conference-2008.157</td>\n",
       "      <td>0</td>\n",
       "      <td>12.986092</td>\n",
       "      <td>large language models for query expansion</td>\n",
       "    </tr>\n",
       "    <tr>\n",
       "      <th>1</th>\n",
       "      <td>1</td>\n",
       "      <td>28411</td>\n",
       "      <td>2018.ictir_conference-2018.30</td>\n",
       "      <td>1</td>\n",
       "      <td>12.499025</td>\n",
       "      <td>large language models for query expansion</td>\n",
       "    </tr>\n",
       "    <tr>\n",
       "      <th>2</th>\n",
       "      <td>1</td>\n",
       "      <td>8715</td>\n",
       "      <td>2007.sigirconf_conference-2007.110</td>\n",
       "      <td>2</td>\n",
       "      <td>12.410436</td>\n",
       "      <td>large language models for query expansion</td>\n",
       "    </tr>\n",
       "    <tr>\n",
       "      <th>3</th>\n",
       "      <td>1</td>\n",
       "      <td>25015</td>\n",
       "      <td>2011.irfc_conference-2011.6</td>\n",
       "      <td>3</td>\n",
       "      <td>12.342333</td>\n",
       "      <td>large language models for query expansion</td>\n",
       "    </tr>\n",
       "    <tr>\n",
       "      <th>4</th>\n",
       "      <td>1</td>\n",
       "      <td>1973</td>\n",
       "      <td>2009.clef_workshop-2009.5</td>\n",
       "      <td>4</td>\n",
       "      <td>12.040447</td>\n",
       "      <td>large language models for query expansion</td>\n",
       "    </tr>\n",
       "    <tr>\n",
       "      <th>...</th>\n",
       "      <td>...</td>\n",
       "      <td>...</td>\n",
       "      <td>...</td>\n",
       "      <td>...</td>\n",
       "      <td>...</td>\n",
       "      <td>...</td>\n",
       "    </tr>\n",
       "    <tr>\n",
       "      <th>995</th>\n",
       "      <td>1</td>\n",
       "      <td>23638</td>\n",
       "      <td>2013.cikm_conference-2013.216</td>\n",
       "      <td>995</td>\n",
       "      <td>5.981613</td>\n",
       "      <td>large language models for query expansion</td>\n",
       "    </tr>\n",
       "    <tr>\n",
       "      <th>996</th>\n",
       "      <td>1</td>\n",
       "      <td>28403</td>\n",
       "      <td>2018.ictir_conference-2018.22</td>\n",
       "      <td>996</td>\n",
       "      <td>5.979334</td>\n",
       "      <td>large language models for query expansion</td>\n",
       "    </tr>\n",
       "    <tr>\n",
       "      <th>997</th>\n",
       "      <td>1</td>\n",
       "      <td>36720</td>\n",
       "      <td>2015.trec_conference-2015.44</td>\n",
       "      <td>997</td>\n",
       "      <td>5.979330</td>\n",
       "      <td>large language models for query expansion</td>\n",
       "    </tr>\n",
       "    <tr>\n",
       "      <th>998</th>\n",
       "      <td>1</td>\n",
       "      <td>32841</td>\n",
       "      <td>2013.wwwconf_conference-2013c.134</td>\n",
       "      <td>998</td>\n",
       "      <td>5.979132</td>\n",
       "      <td>large language models for query expansion</td>\n",
       "    </tr>\n",
       "    <tr>\n",
       "      <th>999</th>\n",
       "      <td>1</td>\n",
       "      <td>75</td>\n",
       "      <td>2014.sigirconf_workshop-2014erd.7</td>\n",
       "      <td>999</td>\n",
       "      <td>5.979123</td>\n",
       "      <td>large language models for query expansion</td>\n",
       "    </tr>\n",
       "  </tbody>\n",
       "</table>\n",
       "<p>1000 rows × 6 columns</p>\n",
       "</div>"
      ],
      "text/plain": [
       "    qid  docid                               docno  rank      score  \\\n",
       "0     1  21104       2008.cikm_conference-2008.157     0  12.986092   \n",
       "1     1  28411       2018.ictir_conference-2018.30     1  12.499025   \n",
       "2     1   8715  2007.sigirconf_conference-2007.110     2  12.410436   \n",
       "3     1  25015         2011.irfc_conference-2011.6     3  12.342333   \n",
       "4     1   1973           2009.clef_workshop-2009.5     4  12.040447   \n",
       "..   ..    ...                                 ...   ...        ...   \n",
       "995   1  23638       2013.cikm_conference-2013.216   995   5.981613   \n",
       "996   1  28403       2018.ictir_conference-2018.22   996   5.979334   \n",
       "997   1  36720        2015.trec_conference-2015.44   997   5.979330   \n",
       "998   1  32841   2013.wwwconf_conference-2013c.134   998   5.979132   \n",
       "999   1     75   2014.sigirconf_workshop-2014erd.7   999   5.979123   \n",
       "\n",
       "                                         query  \n",
       "0    large language models for query expansion  \n",
       "1    large language models for query expansion  \n",
       "2    large language models for query expansion  \n",
       "3    large language models for query expansion  \n",
       "4    large language models for query expansion  \n",
       "..                                         ...  \n",
       "995  large language models for query expansion  \n",
       "996  large language models for query expansion  \n",
       "997  large language models for query expansion  \n",
       "998  large language models for query expansion  \n",
       "999  large language models for query expansion  \n",
       "\n",
       "[1000 rows x 6 columns]"
      ]
     },
     "execution_count": 17,
     "metadata": {},
     "output_type": "execute_result"
    }
   ],
   "source": [
    "tfidf = pt.BatchRetrieve(index, wmodel=\"TF_IDF\")\n",
    "tfidf.search(\"large language models for query expansion\")"
   ]
  },
  {
   "cell_type": "markdown",
   "metadata": {
    "id": "m6aZGX9sbdmc"
   },
   "source": [
    "You will note that, as expected, the scores of documents ranked by `TF_IDF` are no longer integers. You can see the exact formula used by Terrier from [the Github repo](https://github.com/terrier-org/terrier-core/blob/5.x/modules/core/src/main/java/org/terrier/matching/models/TF_IDF.java#L79).\n",
    "\n",
    "Terrier supports many weighting models – the documentation contains [a list of supported models](http://terrier.org/docs/current/javadoc/org/terrier/matching/models/package-summary.html) - some of which we will discover later in the tutorial.\n"
   ]
  },
  {
   "cell_type": "markdown",
   "metadata": {
    "id": "YQ0j9lFfx-gO"
   },
   "source": [
    "### What is Success?\n",
    "\n",
    "So far, we have been creating search engine models, but we haven't decided if any of them ia actually any good. Let's investigate if we are getting a correct (\"relevant\") document at the first rank."
   ]
  },
  {
   "cell_type": "code",
   "execution_count": null,
   "metadata": {},
   "outputs": [],
   "source": [
    "pt.Experiment(\n",
    "    [tfidf],\n",
    "    queries,\n",
    "    qrels,\n",
    "    eval_metrics=[\"map\", \"ndcg\"])"
   ]
  },
  {
   "cell_type": "markdown",
   "metadata": {},
   "source": [
    "Now, repeat the experiment with some more Retrieval models :)\n",
    "\n",
    "\n",
    "**Attention: The effectiveness scores that we see are primarily influcenced by unjudged documents. Removing this bias and conducting more robust evaluations will be the main objective of milestone 3**"
   ]
  },
  {
   "cell_type": "code",
   "execution_count": 22,
   "metadata": {
    "colab": {
     "base_uri": "https://localhost:8080/",
     "height": 80
    },
    "executionInfo": {
     "elapsed": 3826,
     "status": "ok",
     "timestamp": 1615973119937,
     "user": {
      "displayName": "Nicola Tonellotto",
      "photoUrl": "https://lh3.googleusercontent.com/a-/AOh14Gga8BaxLsPFWvzzBzSximki7T2Jsnf0EEARTd_h=s64",
      "userId": "17533833776178224794"
     },
     "user_tz": -60
    },
    "id": "OFUmiFSobUDg",
    "outputId": "db01e114-e6e7-4ff4-9447-ecf5e3d8ea54"
   },
   "outputs": [
    {
     "data": {
      "text/html": [
       "<div>\n",
       "<style scoped>\n",
       "    .dataframe tbody tr th:only-of-type {\n",
       "        vertical-align: middle;\n",
       "    }\n",
       "\n",
       "    .dataframe tbody tr th {\n",
       "        vertical-align: top;\n",
       "    }\n",
       "\n",
       "    .dataframe thead th {\n",
       "        text-align: right;\n",
       "    }\n",
       "</style>\n",
       "<table border=\"1\" class=\"dataframe\">\n",
       "  <thead>\n",
       "    <tr style=\"text-align: right;\">\n",
       "      <th></th>\n",
       "      <th>name</th>\n",
       "      <th>map</th>\n",
       "      <th>ndcg</th>\n",
       "    </tr>\n",
       "  </thead>\n",
       "  <tbody>\n",
       "    <tr>\n",
       "      <th>0</th>\n",
       "      <td>TF-IDF</td>\n",
       "      <td>0.375000</td>\n",
       "      <td>0.473197</td>\n",
       "    </tr>\n",
       "    <tr>\n",
       "      <th>1</th>\n",
       "      <td>BM25</td>\n",
       "      <td>0.375000</td>\n",
       "      <td>0.473197</td>\n",
       "    </tr>\n",
       "    <tr>\n",
       "      <th>2</th>\n",
       "      <td>Dirichlet</td>\n",
       "      <td>0.007681</td>\n",
       "      <td>0.103093</td>\n",
       "    </tr>\n",
       "    <tr>\n",
       "      <th>3</th>\n",
       "      <td>DPH</td>\n",
       "      <td>0.256521</td>\n",
       "      <td>0.329604</td>\n",
       "    </tr>\n",
       "  </tbody>\n",
       "</table>\n",
       "</div>"
      ],
      "text/plain": [
       "        name       map      ndcg\n",
       "0     TF-IDF  0.375000  0.473197\n",
       "1       BM25  0.375000  0.473197\n",
       "2  Dirichlet  0.007681  0.103093\n",
       "3        DPH  0.256521  0.329604"
      ]
     },
     "execution_count": 22,
     "metadata": {},
     "output_type": "execute_result"
    }
   ],
   "source": [
    "tfidf = pt.BatchRetrieve(index, wmodel=\"TF_IDF\")\n",
    "bm25 = pt.BatchRetrieve(index, wmodel=\"BM25\")\n",
    "dirichlet = pt.BatchRetrieve(index, wmodel=\"DirichletLM\")\n",
    "dph = pt.BatchRetrieve(index, wmodel=\"DPH\")\n",
    "\n",
    "pt.Experiment(\n",
    "    [tfidf, bm25, dirichlet, dph],\n",
    "    queries,\n",
    "    qrels,\n",
    "    names=['TF-IDF', 'BM25', 'Dirichlet', 'DPH'],\n",
    "    eval_metrics=[\"map\", \"ndcg\"]\n",
    ")"
   ]
  },
  {
   "cell_type": "markdown",
   "metadata": {
    "id": "Mt0iPhRw2J-S"
   },
   "source": [
    "## That's all folks\n",
    "\n",
    "The following parts of the PyTerrier documentation may be useful references for this notebook:\n",
    " * [PyTerrier datasets](https://pyterrier.readthedocs.io/en/latest/datasets.html)\n",
    " * [Using Terrier for retrieval](https://pyterrier.readthedocs.io/en/latest/terrier-indexing.html)\n",
    " * [Transformers in PyTerrier](https://pyterrier.readthedocs.io/en/latest/transformer.html)\n",
    " * [Transformer Operators](https://pyterrier.readthedocs.io/en/latest/operators.html)"
   ]
  },
  {
   "cell_type": "code",
   "execution_count": null,
   "metadata": {
    "id": "mRjyEZ5_aTvM"
   },
   "outputs": [],
   "source": []
  }
 ],
 "metadata": {
  "colab": {
   "collapsed_sections": [],
   "name": "ECIR 2021 Tutorial Notebook - Part 1.ipynb",
   "provenance": [
    {
     "file_id": "1kWCNf3QlQ4bX5YCM9OJBaaLikoTFCd5A",
     "timestamp": 1615914442515
    },
    {
     "file_id": "17Pihqt_C8DFzqlomTUks-5stNzNFjrAn",
     "timestamp": 1611078807322
    },
    {
     "file_id": "121AtOADdFd2VVAX5hcJX0WNBNt2_QHDu",
     "timestamp": 1609952873856
    },
    {
     "file_id": "1o4RTKOutf_FlMyPdEPkRyutnbY26JXMf",
     "timestamp": 1571324862553
    }
   ],
   "toc_visible": true
  },
  "kernelspec": {
   "display_name": "Python 3 (ipykernel)",
   "language": "python",
   "name": "python3"
  },
  "language_info": {
   "codemirror_mode": {
    "name": "ipython",
    "version": 3
   },
   "file_extension": ".py",
   "mimetype": "text/x-python",
   "name": "python",
   "nbconvert_exporter": "python",
   "pygments_lexer": "ipython3",
   "version": "3.7.13"
  }
 },
 "nbformat": 4,
 "nbformat_minor": 1
}
